{
 "cells": [
  {
   "cell_type": "code",
   "execution_count": 1,
   "id": "3a105702-6427-40a3-9c80-9111a852210f",
   "metadata": {
    "tags": []
   },
   "outputs": [
    {
     "name": "stdout",
     "output_type": "stream",
     "text": [
      "Writing requirements.txt\n"
     ]
    }
   ],
   "source": [
    "%%writefile requirements.txt\n",
    "sqlalchemy==1.4.47\n",
    "snowflake-sqlalchemy\n",
    "#langchain==0.0.166\n",
    "langchain==0.0.190\n",
    "sqlalchemy-aurora-data-api\n",
    "PyAthena[SQLAlchemy]==2.25.2\n",
    "anthropic\n",
    "redshift-connector==2.0.910\n",
    "sqlalchemy-redshift==0.8.14"
   ]
  },
  {
   "cell_type": "code",
   "execution_count": 2,
   "id": "1127f367-acc8-4480-8790-09b9c3e9ffbd",
   "metadata": {
    "tags": []
   },
   "outputs": [],
   "source": [
    "!pip install -r requirements.txt --quiet"
   ]
  },
  {
   "cell_type": "code",
   "execution_count": null,
   "id": "5c13e631-5a6c-416d-8b7d-f15498d653e0",
   "metadata": {},
   "outputs": [],
   "source": []
  },
  {
   "cell_type": "code",
   "execution_count": null,
   "id": "3bd5afeb-ecec-4759-8266-e151354695e1",
   "metadata": {},
   "outputs": [],
   "source": []
  }
 ],
 "metadata": {
  "kernelspec": {
   "display_name": "conda_python3",
   "language": "python",
   "name": "conda_python3"
  },
  "language_info": {
   "codemirror_mode": {
    "name": "ipython",
    "version": 3
   },
   "file_extension": ".py",
   "mimetype": "text/x-python",
   "name": "python",
   "nbconvert_exporter": "python",
   "pygments_lexer": "ipython3",
   "version": "3.10.10"
  }
 },
 "nbformat": 4,
 "nbformat_minor": 5
}
